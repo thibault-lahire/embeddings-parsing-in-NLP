{
 "cells": [
  {
   "cell_type": "markdown",
   "metadata": {},
   "source": [
    "# Deep Learning for NLP - Project"
   ]
  },
  {
   "cell_type": "markdown",
   "metadata": {},
   "source": [
    "RULES:\n",
    "\n",
    "* Do not create any additional cell\n",
    "\n",
    "* Fill in the blanks\n",
    "\n",
    "* All cells should be runnable (modulo trivial compatibility bugs that we'd fix)\n",
    "\n",
    "* 4 / 20 points will be allocated to the clarity of your code\n",
    "\n",
    "* Efficient code will have a bonus\n",
    "\n",
    "DELIVERABLE:\n",
    "\n",
    "* the pdf with your answers\n",
    "* this notebook\n",
    "* the predictions of the SST test set\n",
    "\n",
    "DO NOT INCLUDE THE DATASETS IN THE DELIVERABLE.."
   ]
  },
  {
   "cell_type": "code",
   "execution_count": 98,
   "metadata": {
    "jupyter": {
     "outputs_hidden": false
    }
   },
   "outputs": [],
   "source": [
    "# Python 3.6 or above is required\n",
    "import io\n",
    "import os\n",
    "\n",
    "from collections import defaultdict\n",
    "import gzip\n",
    "import numpy as np\n",
    "from pathlib import Path\n",
    "\n",
    "import urllib.request"
   ]
  },
  {
   "cell_type": "code",
   "execution_count": 99,
   "metadata": {},
   "outputs": [],
   "source": [
    "PATH_TO_DATA = Path('data/')\n",
    "# Download word vectors, might take a few minutes and about ~3GB of storage space\n",
    "en_embeddings_path = PATH_TO_DATA / 'cc.en.300.vec.gz'\n",
    "if not en_embeddings_path.exists():\n",
    "    urllib.request.urlretrieve('https://dl.fbaipublicfiles.com/fasttext/vectors-crawl/cc.en.300.vec.gz', en_embeddings_path)\n",
    "fr_embeddings_path = PATH_TO_DATA / 'cc.fr.300.vec.gz'\n",
    "if not fr_embeddings_path.exists():\n",
    "    urllib.request.urlretrieve('https://dl.fbaipublicfiles.com/fasttext/vectors-crawl/cc.fr.300.vec.gz', fr_embeddings_path)"
   ]
  },
  {
   "cell_type": "markdown",
   "metadata": {},
   "source": [
    "# 1) Monolingual (English) word embeddings "
   ]
  },
  {
   "cell_type": "code",
   "execution_count": 100,
   "metadata": {},
   "outputs": [],
   "source": [
    "class Word2Vec():\n",
    "\n",
    "    def __init__(self, filepath, vocab_size=50000):\n",
    "        self.words, self.embeddings = self.load_wordvec(filepath, vocab_size)\n",
    "        # Mappings for O(1) retrieval:\n",
    "        self.word2id = {word: idx for idx, word in enumerate(self.words)}\n",
    "        self.id2word = {idx: word for idx, word in enumerate(self.words)}\n",
    "    \n",
    "    def load_wordvec(self, filepath, vocab_size):\n",
    "        assert str(filepath).endswith('.gz')\n",
    "        words = []\n",
    "        embeddings = []\n",
    "        with gzip.open(filepath, 'rt') as f:  # Read compressed file directly\n",
    "            next(f)  # Skip header\n",
    "            for i, line in enumerate(f):\n",
    "                word, vec = line.split(' ', 1)\n",
    "                words.append(word)\n",
    "                embeddings.append(np.fromstring(vec, sep=' '))\n",
    "                if i == (vocab_size - 1):\n",
    "                    break\n",
    "        print('Loaded %s pretrained word vectors' % (len(words)))\n",
    "        return words, np.vstack(embeddings)\n",
    "    \n",
    "    def encode(self, word):\n",
    "        # Returns the 1D embedding of a given word\n",
    "        if word in self.words:\n",
    "            return self.embeddings[self.word2id[word]]\n",
    "        else:\n",
    "            return np.zeros(self.embeddings.shape[1])\n",
    "    \n",
    "    def score(self, word1, word2):\n",
    "        # Return the cosine similarity: use np.dot & np.linalg.norm\n",
    "        if word1 in self.words:\n",
    "            emb1 = self.embeddings[self.word2id[word1]]\n",
    "        if word2 in self.words:\n",
    "            emb2 = self.embeddings[self.word2id[word2]]\n",
    "        if (word1 in self.words) and( word2 in self.words):\n",
    "            return emb1.dot(emb2.T)/(np.linalg.norm(emb1)*np.linalg.norm(emb2))\n",
    "        else:\n",
    "            return 0\n",
    "    \n",
    "    def most_similar(self, word, k=5):\n",
    "        # Returns the k most similar words: self.score & np.argsort \n",
    "        list_score = [self.score(word, w) for w in self.words]\n",
    "        if max(list_score)>0:\n",
    "            index_best_words = (np.argsort(list_score)[::-1][:k])\n",
    "            return list(np.array(self.words)[index_best_words])\n",
    "        else:\n",
    "            print('WARNING : The word proposed is not in the vocabulary')\n",
    "            return []"
   ]
  },
  {
   "cell_type": "code",
   "execution_count": 101,
   "metadata": {
    "jupyter": {
     "outputs_hidden": false
    }
   },
   "outputs": [
    {
     "name": "stdout",
     "output_type": "stream",
     "text": [
      "Loaded 50000 pretrained word vectors\n",
      "cat tree 0.26449754661654756\n",
      "cat dog 0.7078641298542564\n",
      "cat pet 0.6753313359976382\n",
      "Paris France 0.6892958925806543\n",
      "Paris Germany 0.4051242286737549\n",
      "Paris baguette 0.29399958277802224\n",
      "Paris donut -0.006588507552348003\n",
      "['cat', 'cats', 'kitty', 'kitten', 'feline']\n",
      "['dog', 'dogs', 'puppy', 'pup', 'canine']\n",
      "['dogs', 'dog', 'cats', 'puppies', 'Dogs']\n",
      "['Paris', 'France', 'Parisian', 'Marseille', 'Brussels']\n",
      "['Germany', 'Austria', 'Europe', 'Berlin', 'Hamburg']\n"
     ]
    }
   ],
   "source": [
    "word2vec = Word2Vec(en_embeddings_path, vocab_size=50000)\n",
    "\n",
    "# You will be evaluated on the output of the following:\n",
    "for word1, word2 in zip(('cat', 'cat', 'cat', 'Paris', 'Paris', 'Paris', 'Paris'), ('tree', 'dog', 'pet', 'France', 'Germany', 'baguette', 'donut')):\n",
    "    print(word1, word2, word2vec.score(word1, word2))\n",
    "for word in ['cat', 'dog', 'dogs', 'Paris', 'Germany']:\n",
    "    print(word2vec.most_similar(word))"
   ]
  },
  {
   "cell_type": "code",
   "execution_count": 102,
   "metadata": {
    "jupyter": {
     "outputs_hidden": false
    }
   },
   "outputs": [],
   "source": [
    "class BagOfWords():\n",
    "    \n",
    "    def __init__(self, word2vec):\n",
    "        self.word2vec = word2vec\n",
    "    \n",
    "    def build_idf(self, sentences):\n",
    "        # build the idf dictionary: associate each word to its idf value\n",
    "        # -> idf = {word: idf_value, ...}\n",
    "        idf = {}\n",
    "        for sent in sentences:\n",
    "            for w in sent.split(' '):\n",
    "                idf[w] = idf.get(w, 0) + 1        \n",
    "        for w in idf:\n",
    "            idf[w] = max(1, np.log10(len(sentences) / (idf[w])))\n",
    "        return idf\n",
    "    \n",
    "    def encode(self, sentence, idf=None):\n",
    "        # Takes a sentence as input, returns the sentence embedding\n",
    "        sentemb = []\n",
    "        for sent in sentence:\n",
    "            embed = []\n",
    "            words = sent.split(' ')\n",
    "            if idf is None:\n",
    "                # mean of word vectors\n",
    "                for _, word in enumerate(words):\n",
    "                    if word in self.word2vec.words:\n",
    "                        embed.append(self.word2vec.encode(word))\n",
    "                    \n",
    "                if len(embed) == 0:\n",
    "                    embed = np.zeros((1, 300))\n",
    "                else:\n",
    "                    embed = np.vstack(embed)\n",
    "                sentemb.append(np.mean(embed, axis=0))\n",
    "            else:\n",
    "                # idf-weighted mean of word vectors\n",
    "                for _, word in enumerate(words):\n",
    "                    if word in self.word2vec.words and word in idf.keys():\n",
    "                        embed.append(self.word2vec.encode(word) * idf[word])\n",
    "                    \n",
    "                if len(embed) == 0:\n",
    "                    embed = np.zeros((1, 300))\n",
    "                else:\n",
    "                    embed = np.vstack(embed)\n",
    "                sentemb.append(np.mean(embed, axis=0))\n",
    "        return np.vstack(sentemb)\n",
    "\n",
    "    def score(self, sentence1, sentence2, idf=None):\n",
    "        # cosine similarity: use np.dot & np.linalg.norm \n",
    "        emb2 = self.encode([sentence2], idf)\n",
    "        emb1 = self.encode([sentence1], idf)\n",
    "        if ((np.linalg.norm(emb1)!=0) and ((np.linalg.norm(emb2)!=0))):\n",
    "            return emb1.dot(emb2.T)/(np.linalg.norm(emb1)*np.linalg.norm(emb2))\n",
    "        else: \n",
    "            return 0\n",
    "    \n",
    "    def most_similar(self, sentence, sentences, idf=None, k=5):\n",
    "        # Return most similar sentences\n",
    "        similarities = np.zeros(len(sentences))\n",
    "        for i in range(similarities.shape[0]):\n",
    "            similarities[i] = self.score(sentence, sentences[i], idf)\n",
    "        index_best_sentences = (np.argsort(similarities)[::-1][:k])\n",
    "        res = []\n",
    "        for index in index_best_sentences:\n",
    "            res.append(sentences[index])\n",
    "        return res"
   ]
  },
  {
   "cell_type": "code",
   "execution_count": 103,
   "metadata": {
    "jupyter": {
     "outputs_hidden": false
    }
   },
   "outputs": [
    {
     "name": "stdout",
     "output_type": "stream",
     "text": [
      "Loaded 50000 pretrained word vectors\n",
      "\n",
      "\tAverage of word embeddings\n",
      "1 man singing and 1 man playing a saxophone in a concert . \n",
      "10 people venture out to go crosscountry skiing . \n",
      "[[0.70652206]]\n",
      "1 smiling african american boy . \n",
      "1) 1 smiling african american boy . \n",
      "2) 2 woman dancing while pointing . \n",
      "3) 5 women and 1 man are smiling for the camera . \n",
      "4) a small boy following 4 geese . \n",
      "5) 2 female babies eating chips . \n",
      "\n",
      "\tidf weighted average of word embeddings\n",
      "1 man singing and 1 man playing a saxophone in a concert . \n",
      "10 people venture out to go crosscountry skiing . \n",
      "[[0.70379268]]\n",
      "2 female babies eating chips . \n",
      "1) 2 female babies eating chips . \n",
      "2) 2 kids holding hands and smiling . \n",
      "3) 3 men , 2 shoveling dirt and the other laying down cement . \n",
      "4) 3 little kids are playing football . \n",
      "5) two men and 2 women running . \n"
     ]
    }
   ],
   "source": [
    "word2vec = Word2Vec(en_embeddings_path, vocab_size=50000)\n",
    "sentence2vec = BagOfWords(word2vec)\n",
    "\n",
    "# Load sentences in \"PATH_TO_DATA/sentences.txt\"\n",
    "filepath = PATH_TO_DATA / 'sentences.txt'\n",
    "with open(filepath, 'r') as f:\n",
    "    sentences = [line.strip('\\n') for line in f]\n",
    "\n",
    "\n",
    "# You will be evaluated on the output of the following:\n",
    "print('\\n\\tAverage of word embeddings')\n",
    "sentence1 = sentences[7]\n",
    "sentence2 = sentences[13]\n",
    "print(sentence1)\n",
    "print(sentence2)\n",
    "print(sentence2vec.score(sentence1, sentence2))\n",
    "sentence = sentences[10]\n",
    "similar_sentences = sentence2vec.most_similar(sentence, sentences)  # BagOfWords-mean\n",
    "print(sentence)\n",
    "for i, sentence in enumerate(similar_sentences):\n",
    "    print(str(i+1) + ')', sentence)\n",
    "\n",
    "# Build idf scores for each word\n",
    "idf = sentence2vec.build_idf(sentences)\n",
    "\n",
    "print('\\n\\tidf weighted average of word embeddings')\n",
    "print(sentence1)\n",
    "print(sentence2)\n",
    "print(sentence2vec.score(sentence1, sentence2, idf))\n",
    "similar_sentences = sentence2vec.most_similar(sentence, sentences, idf)  # BagOfWords-idf\n",
    "print(sentence)\n",
    "for i, sentence in enumerate(similar_sentences):\n",
    "    print(str(i+1) + ')', sentence)"
   ]
  },
  {
   "cell_type": "markdown",
   "metadata": {},
   "source": [
    "# 2) Multilingual (English-French) word embeddings"
   ]
  },
  {
   "cell_type": "markdown",
   "metadata": {},
   "source": [
    "Let's consider a bilingual dictionary of size V_a (e.g French-English).\n",
    "\n",
    "Let's define **X** and **Y** the **French** and **English** matrices.\n",
    "\n",
    "They contain the embeddings associated to the words in the bilingual dictionary.\n",
    "\n",
    "We want to find a **mapping W** that will project the source word space (e.g French) to the target word space (e.g English).\n",
    "\n",
    "Procrustes : **W\\* = argmin || W.X - Y ||  s.t  W^T.W = Id**\n",
    "has a closed form solution:\n",
    "**W = U.V^T  where  U.Sig.V^T = SVD(Y.X^T)**\n",
    "\n",
    "In what follows, you are asked to: "
   ]
  },
  {
   "cell_type": "code",
   "execution_count": 104,
   "metadata": {},
   "outputs": [],
   "source": [
    "class MultilingualWordAligner:\n",
    "    \n",
    "    def __init__(self, fr_word2vec, en_word2vec):\n",
    "        self.fr_word2vec = fr_word2vec\n",
    "        self.en_word2vec = en_word2vec\n",
    "        self.aligned_fr_embeddings = self.get_aligned_fr_embeddings()\n",
    "        \n",
    "    def get_aligned_fr_embeddings(self):\n",
    "        # 1 - Get words that appear in both vocabs (= identical character strings)\n",
    "        #     Use it to create the matrix X (emb_dim, vocab_size) and Y (emb_dim, vocab_size) (of embeddings for these words)\n",
    "        en_keys = list(self.en_word2vec.words)\n",
    "        fr_keys = list(self.fr_word2vec.words)\n",
    "\n",
    "        common_keys = list(set(en_keys) & set(fr_keys))\n",
    "\n",
    "        X = np.array([self.fr_word2vec.encode(key) for key in common_keys]).T\n",
    "        Y = np.array([self.en_word2vec.encode(key) for key in common_keys]).T\n",
    "        \n",
    "        M = Y@(X.T)\n",
    "        U,S,V = np.linalg.svd(M)\n",
    "        W = U@V #W is of shape (300,300)\n",
    "        \n",
    "        # 2 - Solve the Procrustes using the numpy package and: np.linalg.svd() and get the optimal W\n",
    "        #     Now self.fr_word2vec.embeddings * W.transpose() is in the same space as en_word2vec.embeddings\n",
    "        return np.matmul(fr_word2vec.embeddings, W.transpose())\n",
    "\n",
    "        \n",
    "        \n",
    "    def get_closest_english_words(self, fr_word, k=3):\n",
    "        # 3 - Return the top k English nearest neighbors to the input French word\n",
    "        emb1 = self.aligned_fr_embeddings[self.fr_word2vec.word2id[fr_word]]\n",
    "        keys = self.en_word2vec.embeddings\n",
    "        list_scores = np.zeros(keys.shape[0])\n",
    "        list_idx = np.empty(keys.shape[0])\n",
    "        score = 0\n",
    "        for i in range(keys.shape[0]):\n",
    "            emb2 = keys[i]\n",
    "            list_scores[i] = emb1.dot(emb2.T)/(np.linalg.norm(emb1)*np.linalg.norm(emb2))\n",
    "        index_best_words = (np.argsort(list_scores)[::-1][:k])\n",
    "        res = np.array(self.en_word2vec.words)[index_best_words]\n",
    "        return res"
   ]
  },
  {
   "cell_type": "code",
   "execution_count": 105,
   "metadata": {},
   "outputs": [
    {
     "name": "stdout",
     "output_type": "stream",
     "text": [
      "Loaded 50000 pretrained word vectors\n",
      "Loaded 50000 pretrained word vectors\n",
      "----------\n",
      "fr: \"chat\"\n",
      "en: \"cat\"\n",
      "en: \"kitten\"\n",
      "en: \"kitty\"\n",
      "----------\n",
      "fr: \"chien\"\n",
      "en: \"dog\"\n",
      "en: \"cat\"\n",
      "en: \"pet\"\n",
      "----------\n",
      "fr: \"voiture\"\n",
      "en: \"car\"\n",
      "en: \"vehicle\"\n",
      "en: \"automobile\"\n",
      "----------\n",
      "fr: \"zut\"\n",
      "en: \"oops\"\n",
      "en: \"Ah\"\n",
      "en: \"ah\"\n"
     ]
    }
   ],
   "source": [
    "fr_word2vec = Word2Vec(fr_embeddings_path, vocab_size=50000)\n",
    "en_word2vec = Word2Vec(en_embeddings_path, vocab_size=50000)\n",
    "multilingual_word_aligner = MultilingualWordAligner(fr_word2vec, en_word2vec)\n",
    "\n",
    "# You will be evaluated on the output of the following:\n",
    "fr_words = ['chat', 'chien', 'voiture', 'zut']\n",
    "k = 3\n",
    "for fr_word in fr_words:\n",
    "    print('-' * 10)\n",
    "    print(f'fr: \"{fr_word}\"')\n",
    "    en_words = multilingual_word_aligner.get_closest_english_words(fr_word, k=3)\n",
    "    for en_word in en_words:\n",
    "        print(f'en: \"{en_word}\"')"
   ]
  },
  {
   "cell_type": "markdown",
   "metadata": {},
   "source": [
    "If you want to dive deeper on this subject: https://github.com/facebookresearch/MUSE"
   ]
  },
  {
   "cell_type": "markdown",
   "metadata": {},
   "source": [
    "# 3) Sentence classification with BoV and scikit-learn"
   ]
  },
  {
   "cell_type": "code",
   "execution_count": 106,
   "metadata": {},
   "outputs": [],
   "source": [
    "# 1 - Load train/dev/test of Stanford Sentiment TreeBank (SST)\n",
    "#     (https://nlp.stanford.edu/~socherr/EMNLP2013_RNTN.pdf)\n",
    "train_filepath = PATH_TO_DATA / 'SST/stsa.fine.train'\n",
    "dev_filepath = PATH_TO_DATA / 'SST/stsa.fine.dev'\n",
    "test_filepath = PATH_TO_DATA / 'SST/stsa.fine.test.X'\n",
    "\n",
    "# TYPE CODE HERE\n",
    "def load_sentences(filepath, get_labels=True):\n",
    "    sentences = []\n",
    "    labels = []\n",
    "    f = open(os.path.join(filepath), \"r\")\n",
    "    if get_labels:\n",
    "        for line in f:\n",
    "            sentences.append(line.split('\\n')[0][2:])\n",
    "            labels.append(int(line.split('\\n')[0][0]))\n",
    "        return sentences, np.array(labels)\n",
    "    else:\n",
    "        for line in f:\n",
    "            sentences.append(line.split('\\n')[0][2:])\n",
    "        return sentences\n",
    "\n",
    "train, y_train = load_sentences(train_filepath)\n",
    "dev, y_dev = load_sentences(dev_filepath)\n",
    "test = load_sentences(test_filepath, get_labels=False)"
   ]
  },
  {
   "cell_type": "code",
   "execution_count": 107,
   "metadata": {},
   "outputs": [
    {
     "name": "stdout",
     "output_type": "stream",
     "text": [
      "Loaded 50000 pretrained word vectors\n"
     ]
    }
   ],
   "source": [
    "# 2 - Encode sentences with the BoV model above\n",
    "\n",
    "# TYPE CODE HERE\n",
    "word2vec = Word2Vec(en_embeddings_path, vocab_size=50000)\n",
    "sentence2vec = BagOfWords(word2vec)\n",
    "\n",
    "X_train = sentence2vec.encode(train)\n",
    "X_dev = sentence2vec.encode(dev)\n",
    "\n",
    "idf = sentence2vec.build_idf(train + dev)\n",
    "X_train_idf = sentence2vec.encode(train, idf=idf)\n",
    "X_dev_idf = sentence2vec.encode(dev, idf=idf)"
   ]
  },
  {
   "cell_type": "code",
   "execution_count": 108,
   "metadata": {},
   "outputs": [
    {
     "name": "stdout",
     "output_type": "stream",
     "text": [
      "The best value of C for 'Average of word vectors' is 10.00 with a score of 0.467 for train and 0.415 for dev\n",
      "The best value of C for 'Weighted average of word vectors' is 1.00 with a score of 0.464 for train and 0.423 for dev\n"
     ]
    },
    {
     "data": {
      "image/png": "[encoded data removed]",
      "text/plain": [
       "<Figure size 720x216 with 2 Axes>"
      ]
     },
     "metadata": {
      "needs_background": "light"
     },
     "output_type": "display_data"
    }
   ],
   "source": [
    "# 3 - Learn Logistic Regression on top of sentence embeddings using scikit-learn\n",
    "#     (consider tuning the L2 regularization on the dev set)\n",
    "#     In the paper, the accuracy for average of word vectors is 32.7%\n",
    "#     (VecAvg, table 1, https://nlp.stanford.edu/~socherr/EMNLP2013_RNTN.pdf)\n",
    "\n",
    "# TYPE CODE HERE\n",
    "from sklearn.linear_model import LogisticRegression\n",
    "from sklearn.metrics import accuracy_score\n",
    "import matplotlib.pyplot as plt\n",
    "%matplotlib inline\n",
    "\n",
    "penalisations = 10.0**np.arange(-4,4)\n",
    "\n",
    "fig, ax = plt.subplots(nrows=1, ncols=2, figsize=(10,3))\n",
    "\n",
    "train_acc, dev_acc = [], []\n",
    "for pen in penalisations:\n",
    "    lr = LogisticRegression(C = pen, penalty = 'l2', multi_class='multinomial', solver='newton-cg')\n",
    "    lr.fit(X_train, y_train)\n",
    "    prediction_dev = lr.predict(X_dev)\n",
    "    prediction_train = lr.predict(X_train)\n",
    "    train_acc.append(accuracy_score(y_train, prediction_train))\n",
    "    dev_acc.append(accuracy_score(y_dev, prediction_dev))\n",
    "\n",
    "print(\"The best value of C for 'Average of word vectors' is %.2f with a score of %.3f for train and %.3f for dev\"%(penalisations[np.argmax(dev_acc)], train_acc[np.argmax(dev_acc)], max(dev_acc)))\n",
    "    \n",
    "ax[0].plot(penalisations, train_acc, label='train')\n",
    "ax[0].plot(penalisations, dev_acc, label='dev')\n",
    "ax[0].set_title('Mean BoV')\n",
    "ax[0].set_xscale('log')\n",
    "ax[0].set_ylabel('accuracy')\n",
    "ax[0].set_xlabel('value of C')\n",
    "ax[0].legend()\n",
    "    \n",
    "\n",
    "train_acc, dev_acc = [], []\n",
    "for pen in penalisations:\n",
    "    lr_idf = LogisticRegression(C = pen, multi_class='multinomial', solver='newton-cg')\n",
    "    lr_idf.fit(X_train_idf, y_train)\n",
    "    train_acc.append(lr_idf.score(X_train_idf, y_train))\n",
    "    dev_acc.append(lr_idf.score(X_dev_idf, y_dev))\n",
    "    \n",
    "print(\"The best value of C for 'Weighted average of word vectors' is %.2f with a score of %.3f for train and %.3f for dev\"%(penalisations[np.argmax(dev_acc)], train_acc[np.argmax(dev_acc)], max(dev_acc)))\n",
    "\n",
    "ax[1].plot(penalisations, train_acc, label='train')\n",
    "ax[1].plot(penalisations, dev_acc, label='dev')\n",
    "ax[1].set_title('IDF BoV')\n",
    "ax[1].set_xscale('log')\n",
    "ax[1].set_ylabel('accuracy')\n",
    "ax[1].set_xlabel('value of C')\n",
    "ax[1].legend()\n",
    "\n",
    "fig.tight_layout()\n",
    "fig.savefig('logistic_regression_penalization.png')"
   ]
  },
  {
   "cell_type": "code",
   "execution_count": 109,
   "metadata": {},
   "outputs": [
    {
     "name": "stderr",
     "output_type": "stream",
     "text": [
      "/anaconda3/lib/python3.7/site-packages/sklearn/linear_model/logistic.py:433: FutureWarning: Default solver will be changed to 'lbfgs' in 0.22. Specify a solver to silence this warning.\n",
      "  FutureWarning)\n",
      "/anaconda3/lib/python3.7/site-packages/sklearn/linear_model/logistic.py:460: FutureWarning: Default multi_class will be changed to 'auto' in 0.22. Specify the multi_class option to silence this warning.\n",
      "  \"this warning.\", FutureWarning)\n"
     ]
    }
   ],
   "source": [
    "# 4 - Produce 2210 predictions for the test set (in the same order). One line = one prediction (=0,1,2,3,4).\n",
    "#     Attach the output file \"logreg_bov_y_test_sst.txt\" to your deliverable.\n",
    "#     You will be evaluated on the results of the test set.\n",
    "\n",
    "# TYPE CODE HERE\n",
    "model = LogisticRegression(C=15.00) # a further study show that we get better results with 15 rather than 10\n",
    "#we train it on all of the data available\n",
    "model.fit(np.vstack((X_train, X_dev)), np.concatenate((y_train, y_dev)))\n",
    "y_test = model.predict(X_test)\n",
    "\n",
    "np.savetxt(os.path.join(PATH_TO_DATA, 'logreg_bow_y_test_sst.txt'), y_test, fmt='%d')"
   ]
  },
  {
   "cell_type": "code",
   "execution_count": 110,
   "metadata": {},
   "outputs": [
    {
     "name": "stdout",
     "output_type": "stream",
     "text": [
      "Random Forest Precision on train set 0.40402621722846443\n",
      "Random Forest Precision on dev set 0.3442325158946412\n",
      "Random Forest Precision on train set idf 0.4133895131086142\n",
      "Random Forest Precision on dev set idf 0.3405994550408719\n"
     ]
    }
   ],
   "source": [
    "# BONUS!\n",
    "# 5 - Try to improve performance with another classifier\n",
    "#     Attach the output file \"XXX_bov_y_test_sst.txt\" to your deliverable (where XXX = the name of the classifier)\n",
    "\n",
    "# TYPE CODE HERE\n",
    "from sklearn.ensemble import RandomForestClassifier\n",
    "\n",
    "rf_classifier = RandomForestClassifier(n_estimators=100, max_features=30, max_depth=5)\n",
    "rf_classifier.fit(X_train, y_train) \n",
    "prediction_dev_rf = rf_classifier.predict(X_dev)\n",
    "prediction_train_rf = rf_classifier.predict(X_train)\n",
    "\n",
    "\n",
    "rf_classifier_idf = RandomForestClassifier(n_estimators=100, max_features=30, max_depth=5)\n",
    "rf_classifier_idf.fit(X_train_idf, y_train) \n",
    "prediction_dev_rf_idf = rf_classifier_idf.predict(X_dev_idf)\n",
    "prediction_train_rf_idf = rf_classifier_idf.predict(X_train_idf)\n",
    "\n",
    "\n",
    "print('Random Forest Precision on train set', accuracy_score(y_train,prediction_train_rf))\n",
    "print('Random Forest Precision on dev set', accuracy_score(y_dev,prediction_dev_rf))\n",
    "\n",
    "print('Random Forest Precision on train set idf', accuracy_score(y_train,prediction_train_rf_idf))\n",
    "print('Random Forest Precision on dev set idf', accuracy_score(y_dev,prediction_dev_rf_idf))\n",
    "\n",
    "model = RandomForestClassifier(n_estimators=100, max_features=30, max_depth=5)\n",
    "#we train it on all of the data available\n",
    "model.fit(np.vstack((X_train, X_dev)), np.concatenate((y_train, y_dev)))\n",
    "y_test = model.predict(X_test)\n",
    "\n",
    "np.savetxt(os.path.join(PATH_TO_DATA, 'randforest_bow_y_test_sst.txt'), y_test, fmt='%d')"
   ]
  },
  {
   "cell_type": "markdown",
   "metadata": {},
   "source": [
    "# 4) Sentence classification with LSTMs in Keras"
   ]
  },
  {
   "cell_type": "markdown",
   "metadata": {},
   "source": [
    "## 4.1 - Preprocessing"
   ]
  },
  {
   "cell_type": "code",
   "execution_count": 111,
   "metadata": {
    "jupyter": {
     "outputs_hidden": false
    }
   },
   "outputs": [],
   "source": [
    "import keras"
   ]
  },
  {
   "cell_type": "code",
   "execution_count": 112,
   "metadata": {},
   "outputs": [],
   "source": [
    "# 1 - Using the same dataset, transform text to integers using tf.keras.preprocessing.text.one_hot function\n",
    "#     https://keras.io/preprocessing/text/\n",
    "\n",
    "# TYPE CODE HERE\n",
    "from keras.preprocessing import text\n",
    "from keras.utils import to_categorical\n",
    "\n",
    "all_sentences = train + dev + test\n",
    "\n",
    "vocabulary = set([w for sent in all_sentences for w in sent.split()])\n",
    "MAX_SENT   = np.max([len(sent.split(' ')) for sent in all_sentences])\n",
    "VOCAB_SIZE = len(vocabulary)\n",
    "\n",
    "x_train_oneh = [text.one_hot(elem,VOCAB_SIZE) for elem in train]\n",
    "x_dev_oneh   = [text.one_hot(elem,VOCAB_SIZE) for elem in dev]\n",
    "x_test_oneh  = [text.one_hot(elem,VOCAB_SIZE) for elem in test]\n",
    "\n",
    "y_train = to_categorical(y_train)\n",
    "y_val = to_categorical(y_dev)"
   ]
  },
  {
   "cell_type": "markdown",
   "metadata": {},
   "source": [
    "**Padding input data**\n",
    "\n",
    "Models in Keras (and elsewhere) take batches of sentences of the same length as input. It is because Deep Learning framework have been designed to handle well Tensors, which are particularly suited for fast computation on the GPU.\n",
    "\n",
    "Since sentences have different sizes, we \"pad\" them. That is, we add dummy \"padding\" tokens so that they all have the same length.\n",
    "\n",
    "The input to a Keras model thus has this size : (batchsize, maxseqlen) where maxseqlen is the maximum length of a sentence in the batch."
   ]
  },
  {
   "cell_type": "code",
   "execution_count": 113,
   "metadata": {},
   "outputs": [],
   "source": [
    "# 2 - Pad your sequences using tf.keras.preprocessing.sequence.pad_sequences\n",
    "#     https://keras.io/preprocessing/sequence/\n",
    "\n",
    "# TYPE CODE HERE\n",
    "from keras.preprocessing.sequence import pad_sequences\n",
    "\n",
    "x_train_pad = pad_sequences(x_train_oneh, maxlen=MAX_SENT)\n",
    "x_val_pad = pad_sequences(x_dev_oneh, maxlen=MAX_SENT)\n",
    "x_test_pad = pad_sequences(x_test_oneh, maxlen=MAX_SENT)"
   ]
  },
  {
   "cell_type": "markdown",
   "metadata": {},
   "source": [
    "## 4.2 - Design and train your model"
   ]
  },
  {
   "cell_type": "code",
   "execution_count": 114,
   "metadata": {},
   "outputs": [],
   "source": [
    "# 3 - Design your encoder + classifier using tensorflow.keras.layers\n",
    "#     In Keras, Torch and other deep learning framework, we create a \"container\" which is the Sequential() module.\n",
    "#     Then we add components to this container : the lookup-table, the LSTM, the classifier etc.\n",
    "#     All of these components are contained in the Sequential() and are trained together.\n",
    "#     Note that the embedding layer is initialized randomly and does not take advantage of pre-trained word embeddings.\n",
    "\n",
    "\n",
    "# ADAPT CODE BELOW\n",
    "\n",
    "\n",
    "from tensorflow.keras.models import Sequential\n",
    "from tensorflow.keras.layers import Embedding, LSTM, Dense, Activation\n",
    "\n",
    "embed_dim  = 32  # word embedding dimension\n",
    "nhid       = 64  # number of hidden units in the LSTM\n",
    "vocab_size = 50000  # size of the vocabulary\n",
    "n_classes  = 5\n",
    "\n",
    "model = Sequential()\n",
    "model.add(Embedding(vocab_size, embed_dim))\n",
    "model.add(LSTM(nhid, dropout=0.2, recurrent_dropout=0.2))\n",
    "model.add(Dense(n_classes, activation='sigmoid'))"
   ]
  },
  {
   "cell_type": "code",
   "execution_count": 115,
   "metadata": {
    "jupyter": {
     "outputs_hidden": false
    }
   },
   "outputs": [
    {
     "name": "stdout",
     "output_type": "stream",
     "text": [
      "_________________________________________________________________\n",
      "Layer (type)                 Output Shape              Param #   \n",
      "=================================================================\n",
      "embedding_6 (Embedding)      (None, None, 32)          1600000   \n",
      "_________________________________________________________________\n",
      "lstm_6 (LSTM)                (None, 64)                24832     \n",
      "_________________________________________________________________\n",
      "dense_6 (Dense)              (None, 5)                 325       \n",
      "=================================================================\n",
      "Total params: 1,625,157\n",
      "Trainable params: 1,625,157\n",
      "Non-trainable params: 0\n",
      "_________________________________________________________________\n",
      "None\n"
     ]
    }
   ],
   "source": [
    "# 4 - Define your loss/optimizer/metrics\n",
    "\n",
    "# MODIFY CODE BELOW\n",
    "\n",
    "loss_classif     =  'categorical_crossentropy' # find the right loss for multi-class classification\n",
    "optimizer        =  'rmsprop' # find the right optimizer\n",
    "metrics_classif  =  ['accuracy']\n",
    "\n",
    "# Observe how easy (but blackboxed) this is in Keras\n",
    "model.compile(loss=loss_classif,\n",
    "              optimizer=optimizer,\n",
    "              metrics=metrics_classif)\n",
    "print(model.summary())"
   ]
  },
  {
   "cell_type": "code",
   "execution_count": 116,
   "metadata": {},
   "outputs": [
    {
     "name": "stdout",
     "output_type": "stream",
     "text": [
      "Train on 8544 samples, validate on 1101 samples\n",
      "Epoch 1/5\n",
      "8544/8544 [==============================] - 16s 2ms/sample - loss: 1.5761 - acc: 0.2721 - val_loss: 1.5727 - val_acc: 0.2534\n",
      "Epoch 2/5\n",
      "8544/8544 [==============================] - 13s 1ms/sample - loss: 1.5373 - acc: 0.3078 - val_loss: 1.5003 - val_acc: 0.3306\n",
      "Epoch 3/5\n",
      "8544/8544 [==============================] - 13s 2ms/sample - loss: 1.4116 - acc: 0.3826 - val_loss: 1.4508 - val_acc: 0.3533\n",
      "Epoch 4/5\n",
      "8544/8544 [==============================] - 13s 2ms/sample - loss: 1.2837 - acc: 0.4252 - val_loss: 1.4005 - val_acc: 0.3688\n",
      "Epoch 5/5\n",
      "8544/8544 [==============================] - 13s 2ms/sample - loss: 1.1890 - acc: 0.4521 - val_loss: 1.4334 - val_acc: 0.3706\n",
      "dict_keys(['loss', 'acc', 'val_loss', 'val_acc'])\n"
     ]
    },
    {
     "data": {
      "image/png": "[encoded data removed]",
      "text/plain": [
       "<Figure size 432x288 with 1 Axes>"
      ]
     },
     "metadata": {
      "needs_background": "light"
     },
     "output_type": "display_data"
    },
    {
     "data": {
      "image/png": "[encoded data removed]",
      "text/plain": [
       "<Figure size 432x288 with 1 Axes>"
      ]
     },
     "metadata": {
      "needs_background": "light"
     },
     "output_type": "display_data"
    }
   ],
   "source": [
    "# 5 - Train your model and find the best hyperparameters for your dev set\n",
    "#     you will be evaluated on the quality of your predictions on the test set\n",
    "#     Keras expects y_train and y_dev to be one-hot encodings of the labels, i.e. with shape=(n_samples, 5)\n",
    "\n",
    "\n",
    "# ADAPT CODE BELOW\n",
    "bs = 64\n",
    "n_epochs = 5\n",
    "\n",
    "history = model.fit(x_train_pad, y_train, batch_size=bs, epochs=n_epochs, validation_data=(x_val_pad, y_val))\n",
    "\n",
    "print(history.history.keys())\n",
    "# summarize history for accuracy\n",
    "plt.plot(history.history['acc'])\n",
    "plt.plot(history.history['val_acc'])\n",
    "plt.title('model accuracy')\n",
    "plt.ylabel('accuracy')\n",
    "plt.xlabel('epoch')\n",
    "plt.legend(['train', 'test'], loc='upper left')\n",
    "plt.savefig('model_1_accuracy.png')\n",
    "plt.show()\n",
    "# summarize history for loss\n",
    "plt.plot(history.history['loss'])\n",
    "plt.plot(history.history['val_loss'])\n",
    "plt.title('model loss')\n",
    "plt.ylabel('loss')\n",
    "plt.xlabel('epoch')\n",
    "plt.legend(['train', 'test'], loc='upper left')\n",
    "plt.savefig('model_1_loss.png')\n",
    "plt.show()\n"
   ]
  },
  {
   "cell_type": "code",
   "execution_count": 117,
   "metadata": {},
   "outputs": [],
   "source": [
    "# 6 - Generate your predictions on the test set using model.predict(x_test)\n",
    "#     https://keras.io/models/model/\n",
    "#     Log your predictions in a file (one line = one integer: 0,1,2,3,4)\n",
    "#     Attach the output file \"logreg_lstm_y_test_sst.txt\" to your deliverable.\n",
    "\n",
    "# TYPE CODE HERE\n",
    "y_test = np.argmax(model.predict(x_test_pad), axis=1)\n",
    "np.savetxt(os.path.join(PATH_TO_DATA, 'logreg_lstm_y_test_sst.txt'), y_test, fmt= '%d')"
   ]
  },
  {
   "cell_type": "markdown",
   "metadata": {},
   "source": [
    "## 4.3 - innovate !"
   ]
  },
  {
   "cell_type": "code",
   "execution_count": 123,
   "metadata": {},
   "outputs": [
    {
     "name": "stdout",
     "output_type": "stream",
     "text": [
      "Loaded 50000 pretrained word vectors\n"
     ]
    },
    {
     "name": "stderr",
     "output_type": "stream",
     "text": [
      "/anaconda3/lib/python3.7/site-packages/ipykernel_launcher.py:60: UserWarning: Update your `LSTM` call to the Keras 2 API: `LSTM(64, dropout=0.3, recurrent_dropout=0.3)`\n"
     ]
    },
    {
     "name": "stdout",
     "output_type": "stream",
     "text": [
      "Train on 8544 samples, validate on 1101 samples\n",
      "Epoch 1/25\n",
      "8544/8544 [==============================] - 17s 2ms/step - loss: 1.5573 - accuracy: 0.2913 - val_loss: 1.4981 - val_accuracy: 0.3388\n",
      "Epoch 2/25\n",
      "8544/8544 [==============================] - 13s 2ms/step - loss: 1.4789 - accuracy: 0.3443 - val_loss: 1.4288 - val_accuracy: 0.3697\n",
      "Epoch 3/25\n",
      "8544/8544 [==============================] - 13s 2ms/step - loss: 1.4226 - accuracy: 0.3691 - val_loss: 1.3807 - val_accuracy: 0.3760\n",
      "Epoch 4/25\n",
      "8544/8544 [==============================] - 13s 2ms/step - loss: 1.3878 - accuracy: 0.3763 - val_loss: 1.3518 - val_accuracy: 0.3878\n",
      "Epoch 5/25\n",
      "8544/8544 [==============================] - 14s 2ms/step - loss: 1.3634 - accuracy: 0.3894 - val_loss: 1.3410 - val_accuracy: 0.3978\n",
      "Epoch 6/25\n",
      "8544/8544 [==============================] - 13s 2ms/step - loss: 1.3469 - accuracy: 0.4038 - val_loss: 1.3856 - val_accuracy: 0.3969\n",
      "Epoch 7/25\n",
      "8544/8544 [==============================] - 13s 2ms/step - loss: 1.3220 - accuracy: 0.4105 - val_loss: 1.3672 - val_accuracy: 0.3924\n",
      "Epoch 8/25\n",
      "8544/8544 [==============================] - 13s 2ms/step - loss: 1.3156 - accuracy: 0.4192 - val_loss: 1.3202 - val_accuracy: 0.4060\n",
      "Epoch 9/25\n",
      "8544/8544 [==============================] - 13s 2ms/step - loss: 1.3028 - accuracy: 0.4334 - val_loss: 1.3819 - val_accuracy: 0.3906\n",
      "Epoch 10/25\n",
      "8544/8544 [==============================] - 13s 2ms/step - loss: 1.2879 - accuracy: 0.4318 - val_loss: 1.3091 - val_accuracy: 0.4160\n",
      "Epoch 11/25\n",
      "8544/8544 [==============================] - 13s 2ms/step - loss: 1.2805 - accuracy: 0.4384 - val_loss: 1.3123 - val_accuracy: 0.4251\n",
      "Epoch 12/25\n",
      "8544/8544 [==============================] - 14s 2ms/step - loss: 1.2732 - accuracy: 0.4432 - val_loss: 1.2951 - val_accuracy: 0.4223\n",
      "Epoch 13/25\n",
      "8544/8544 [==============================] - 14s 2ms/step - loss: 1.2649 - accuracy: 0.4383 - val_loss: 1.2847 - val_accuracy: 0.4251\n",
      "Epoch 14/25\n",
      "8544/8544 [==============================] - 13s 2ms/step - loss: 1.2504 - accuracy: 0.4547 - val_loss: 1.2851 - val_accuracy: 0.4187\n",
      "Epoch 15/25\n",
      "8544/8544 [==============================] - 13s 2ms/step - loss: 1.2466 - accuracy: 0.4491 - val_loss: 1.2628 - val_accuracy: 0.4269\n",
      "Epoch 16/25\n",
      "8544/8544 [==============================] - 13s 2ms/step - loss: 1.2367 - accuracy: 0.4586 - val_loss: 1.3001 - val_accuracy: 0.4214\n",
      "Epoch 17/25\n",
      "8544/8544 [==============================] - 13s 2ms/step - loss: 1.2289 - accuracy: 0.4559 - val_loss: 1.2738 - val_accuracy: 0.4342\n",
      "Epoch 18/25\n",
      "8544/8544 [==============================] - 13s 2ms/step - loss: 1.2170 - accuracy: 0.4624 - val_loss: 1.2589 - val_accuracy: 0.4441\n",
      "Epoch 19/25\n",
      "8544/8544 [==============================] - 13s 2ms/step - loss: 1.2160 - accuracy: 0.4665 - val_loss: 1.2594 - val_accuracy: 0.4396\n",
      "Epoch 20/25\n",
      "8544/8544 [==============================] - 13s 2ms/step - loss: 1.1984 - accuracy: 0.4720 - val_loss: 1.2881 - val_accuracy: 0.4369\n",
      "Epoch 21/25\n",
      "8544/8544 [==============================] - 13s 2ms/step - loss: 1.1969 - accuracy: 0.4743 - val_loss: 1.2686 - val_accuracy: 0.4396\n",
      "Epoch 22/25\n",
      "8544/8544 [==============================] - 13s 2ms/step - loss: 1.1869 - accuracy: 0.4868 - val_loss: 1.2561 - val_accuracy: 0.4287\n",
      "Epoch 23/25\n",
      "8544/8544 [==============================] - 13s 2ms/step - loss: 1.1869 - accuracy: 0.4787 - val_loss: 1.2640 - val_accuracy: 0.4278\n",
      "Epoch 24/25\n",
      "8544/8544 [==============================] - 13s 2ms/step - loss: 1.1801 - accuracy: 0.4855 - val_loss: 1.2496 - val_accuracy: 0.4469\n",
      "Epoch 25/25\n",
      "8544/8544 [==============================] - 13s 2ms/step - loss: 1.1706 - accuracy: 0.4908 - val_loss: 1.2462 - val_accuracy: 0.4496\n",
      "dict_keys(['val_loss', 'val_accuracy', 'loss', 'accuracy'])\n"
     ]
    },
    {
     "data": {
      "image/png": "[encoded data removed]",
      "text/plain": [
       "<Figure size 432x288 with 1 Axes>"
      ]
     },
     "metadata": {
      "needs_background": "light"
     },
     "output_type": "display_data"
    },
    {
     "data": {
      "image/png": "[encoded data removed]",
      "text/plain": [
       "<Figure size 432x288 with 1 Axes>"
      ]
     },
     "metadata": {
      "needs_background": "light"
     },
     "output_type": "display_data"
    }
   ],
   "source": [
    "# 7 - Open question: find a model that is better on your dev set\n",
    "#     (e.g: use a 1D ConvNet, use a better classifier, pretrain your lookup tables ..)\n",
    "#     you will get point if the results on the test set are better: be careful of not overfitting your dev set too much..\n",
    "#     Attach the output file \"XXX_XXX_y_test_sst.txt\" to your deliverable.\n",
    "\n",
    "# TYPE CODE HERE\n",
    "\n",
    "from keras.preprocessing.text import Tokenizer\n",
    "from keras.layers import Embedding, LSTM, Dense, Activation, Bidirectional, Flatten, Dropout\n",
    "\n",
    "\n",
    "w2v = Word2Vec(en_embeddings_path, vocab_size=50000)\n",
    "\n",
    "train, y_train = load_sentences(train_filepath)\n",
    "dev, y_dev = load_sentences(dev_filepath)\n",
    "test = load_sentences(test_filepath, get_labels=False)\n",
    "\n",
    "\n",
    "## Tokenizer\n",
    "tokenizer = Tokenizer()\n",
    "tokenizer.fit_on_texts(train)\n",
    "word_index = tokenizer.word_index\n",
    "index_to_word = dict((v,k) for k,v in word_index.items())\n",
    "vocab_size=len(word_index)+1\n",
    "\n",
    "## One hot encoding\n",
    "sequences_train = tokenizer.texts_to_sequences(train)\n",
    "sequences_dev = tokenizer.texts_to_sequences(dev)\n",
    "sequences_test= tokenizer.texts_to_sequences(test)\n",
    "\n",
    "X_dev_pad_2 = pad_sequences(sequences_dev, maxlen=40)\n",
    "X_train_pad_2= pad_sequences(sequences_train, maxlen=40)\n",
    "X_test_pad_2= pad_sequences(sequences_test, maxlen=40)\n",
    "\n",
    "y_train_ones=to_categorical(y_train)\n",
    "y_dev_ones=to_categorical(y_dev)\n",
    "\n",
    "## Matrix with pretrained embeddings\n",
    "embedding_matrix = np.zeros((vocab_size,300))\n",
    "for word, i in word_index.items():\n",
    "    embedding_vector = w2v.encode(word)\n",
    "    if embedding_vector is not None:\n",
    "        embedding_matrix[i] = embedding_vector\n",
    "\n",
    "        \n",
    "        \n",
    "\n",
    "## New model\n",
    "embed_dim  = 300 # word embedding dimension\n",
    "nhid       = 64 # number of hidden units in the LSTM\n",
    "vocab_size = len(word_index)+1 # size of the vocabulary\n",
    "n_classes  = 5\n",
    "n_reduction=150\n",
    "\n",
    "model_2 = Sequential()\n",
    "model_2.add(Embedding(vocab_size,embed_dim,weights=[embedding_matrix],\n",
    "                            input_length=40,trainable=False))\n",
    "model_2.add(Dropout(0.3))\n",
    "model_2.add(Dense(n_reduction,activation=\"relu\"))\n",
    "model_2.add(Bidirectional(LSTM(nhid, dropout_W=0.3, dropout_U=0.3)))\n",
    "model_2.add(Dense(n_classes, activation='sigmoid'))\n",
    "\n",
    "\n",
    "\n",
    "loss_classif     =  'categorical_crossentropy' \n",
    "optimizer        =  'rmsprop' \n",
    "metrics_classif  =  ['accuracy']\n",
    "\n",
    "model_2.compile(loss=loss_classif, optimizer=optimizer, metrics=metrics_classif)\n",
    "\n",
    "bs = 64\n",
    "n_epochs = 25\n",
    "\n",
    "history = model_2.fit(X_train_pad_2, y_train_ones, batch_size=bs, epochs=n_epochs, validation_data=(X_dev_pad_2, y_dev_ones))\n",
    "\n",
    "\n",
    "\n",
    "print(history.history.keys())\n",
    "\n",
    "plt.plot(history.history['accuracy'])\n",
    "plt.plot(history.history['val_accuracy'])\n",
    "plt.title('model accuracy')\n",
    "plt.ylabel('accuracy')\n",
    "plt.xlabel('epoch')\n",
    "plt.legend(['train', 'test'], loc='upper left')\n",
    "plt.savefig('model_2_accuracy.png')\n",
    "plt.show()\n",
    "\n",
    "plt.plot(history.history['loss'])\n",
    "plt.plot(history.history['val_loss'])\n",
    "plt.title('model loss')\n",
    "plt.ylabel('loss')\n",
    "plt.xlabel('epoch')\n",
    "plt.legend(['train', 'test'], loc='upper left')\n",
    "plt.savefig('model_2_loss.png')\n",
    "plt.show()\n",
    "\n",
    "\n",
    "\n",
    "y_test = np.argmax(model_2.predict(X_test_pad_2), axis=1)\n",
    "np.savetxt(os.path.join(PATH_TO_DATA, 'pretrainembedding_lstm_y_test_sst.txt'), y_test, fmt= '%d')"
   ]
  },
  {
   "cell_type": "code",
   "execution_count": null,
   "metadata": {},
   "outputs": [],
   "source": []
  }
 ],
 "metadata": {
  "kernelspec": {
   "display_name": "Python 3",
   "language": "python",
   "name": "python3"
  },
  "language_info": {
   "codemirror_mode": {
    "name": "ipython",
    "version": 3
   },
   "file_extension": ".py",
   "mimetype": "text/x-python",
   "name": "python",
   "nbconvert_exporter": "python",
   "pygments_lexer": "ipython3",
   "version": "3.7.3"
  }
 },
 "nbformat": 4,
 "nbformat_minor": 4
}
